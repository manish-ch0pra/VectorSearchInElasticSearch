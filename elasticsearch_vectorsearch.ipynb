{
 "cells": [
  {
   "cell_type": "markdown",
   "id": "6f239408",
   "metadata": {},
   "source": [
    "# Install Required Packages"
   ]
  },
  {
   "cell_type": "code",
   "execution_count": null,
   "id": "af778eee",
   "metadata": {},
   "outputs": [],
   "source": [
    "pip install pandas\n",
    "pip install openai\n",
    "pip install elasticsearch==8.13.0"
   ]
  },
  {
   "cell_type": "markdown",
   "id": "5ad9cac7",
   "metadata": {},
   "source": [
    "# Load Movie Data from CSV"
   ]
  },
  {
   "cell_type": "code",
   "execution_count": null,
   "id": "cff7f347",
   "metadata": {},
   "outputs": [],
   "source": [
    "import pandas as pd\n",
    "\n",
    "df = pd.read_csv(\"movies.csv\")\n",
    "\n",
    "print(df.head(5))"
   ]
  },
  {
   "cell_type": "markdown",
   "id": "a73e92f2",
   "metadata": {},
   "source": [
    "# Initialize OpenAI Client for Embedding Generation"
   ]
  },
  {
   "cell_type": "code",
   "execution_count": null,
   "id": "6e038d19",
   "metadata": {},
   "outputs": [],
   "source": [
    "from openai import OpenAI\n",
    "\n",
    "endpoint = \"\"\n",
    "deployment_name = \"\"\n",
    "api_key = \"\"\n",
    "\n",
    "client = OpenAI(\n",
    "    base_url = endpoint,\n",
    "    api_key = api_key,\n",
    ")"
   ]
  },
  {
   "cell_type": "markdown",
   "id": "2cadfa34",
   "metadata": {},
   "source": [
    "Note: Replace the endpoint, deployment_name, and api_key values with your own Azure OpenAI service details"
   ]
  },
  {
   "cell_type": "markdown",
   "id": "1ad5134e",
   "metadata": {},
   "source": [
    "# Generate Embeddings for Movie Descriptions"
   ]
  },
  {
   "cell_type": "code",
   "execution_count": null,
   "id": "cf0284b1",
   "metadata": {},
   "outputs": [],
   "source": [
    "descriptions = df[\"description\"].astype(str).tolist()\n",
    "\n",
    "embeddings = []\n",
    "for description in descriptions:\n",
    "    response = client.embeddings.create(\n",
    "        input=description,\n",
    "        model=deployment_name\n",
    "    )\n",
    "    embeddings.append(response.data[0].embedding)\n",
    "\n",
    "df[\"embedding\"] = embeddings\n",
    "\n",
    "print(df)"
   ]
  },
  {
   "cell_type": "markdown",
   "id": "5b5df1d8",
   "metadata": {},
   "source": [
    "# Connect to Elasticsearch (ensure Elasticsearch Docker Container is running)"
   ]
  },
  {
   "cell_type": "code",
   "execution_count": null,
   "id": "0bc6ef52",
   "metadata": {},
   "outputs": [],
   "source": [
    "from elasticsearch import Elasticsearch\n",
    "\n",
    "es = Elasticsearch(\"http://localhost:9200\")\n",
    "\n",
    "print(es.ping())"
   ]
  },
  {
   "cell_type": "markdown",
   "id": "69d1d1bb",
   "metadata": {},
   "source": [
    "# Define Index and Mapping in Elasticsearch"
   ]
  },
  {
   "cell_type": "code",
   "execution_count": null,
   "id": "bceee08c",
   "metadata": {},
   "outputs": [],
   "source": [
    "from elasticsearch import Elasticsearch\n",
    "\n",
    "es = Elasticsearch(\"http://localhost:9200\")\n",
    "\n",
    "index_name = \"movies\"\n",
    "\n",
    "mapping = {\n",
    "    \"mappings\": {\n",
    "        \"properties\": {\n",
    "            \"movie_title\": {\n",
    "                \"type\": \"text\"\n",
    "            },\n",
    "            \"description\": {\n",
    "                \"type\": \"text\"\n",
    "            },\n",
    "            \"embedding\": {\n",
    "                \"type\": \"dense_vector\",\n",
    "                \"index\": True,\n",
    "                \"similarity\": \"l2_norm\"\n",
    "            }\n",
    "        }\n",
    "    }\n",
    "}\n",
    "\n",
    "es.options(ignore_status=[400, 404]).indices.delete(index=index_name)\n",
    "\n",
    "es.indices.create(index=index_name, body=mapping)\n",
    "print(f\"Index '{index_name}' created.\")"
   ]
  },
  {
   "cell_type": "markdown",
   "id": "db9cec73",
   "metadata": {},
   "source": [
    "# Index Documents into Elasticsearch"
   ]
  },
  {
   "cell_type": "code",
   "execution_count": null,
   "id": "189c5d8c",
   "metadata": {},
   "outputs": [],
   "source": [
    "from elasticsearch import Elasticsearch, helpers\n",
    "\n",
    "es = Elasticsearch(\"http://localhost:9200\")\n",
    "index_name = \"movies\"\n",
    "\n",
    "def create_documents(df):\n",
    "    for row_index, row_data in df.iterrows():\n",
    "        movie_title = row_data[\"movie_title\"]\n",
    "        description = row_data[\"description\"]\n",
    "        embedding_vector = list(row_data[\"embedding\"])  \n",
    "\n",
    "        yield {\n",
    "            \"_index\": index_name,\n",
    "            \"_id\": row_index,\n",
    "            \"_source\": {\n",
    "                \"movie_title\": movie_title,\n",
    "                \"description\": description,\n",
    "                \"embedding\": embedding_vector\n",
    "            }\n",
    "        }\n",
    "\n",
    "helpers.bulk(es, create_documents(df))\n",
    "\n",
    "print(f\"Inserted {len(df)} documents into Elasticsearch index '{index_name}'.\")\n"
   ]
  },
  {
   "cell_type": "markdown",
   "id": "1ba634f6",
   "metadata": {},
   "source": [
    "# Retrieve All Documents from Index (Basic Query)"
   ]
  },
  {
   "cell_type": "code",
   "execution_count": null,
   "id": "0b25fbd5",
   "metadata": {},
   "outputs": [],
   "source": [
    "search_body = {\n",
    "    \"query\": {\"match_all\": {}},\n",
    "    \"size\": 100  \n",
    "}\n",
    "\n",
    "response = es.search(index=index_name, body=search_body)\n",
    "\n",
    "print(response)\n",
    "\n",
    "for doc in response[\"hits\"][\"hits\"]:\n",
    "    source = doc[\"_source\"]\n",
    "    movie_title = source[\"movie_title\"]\n",
    "    description = source[\"description\"]\n",
    "    embedding = source[\"embedding\"]\n",
    "\n",
    "    print(f\"Title: {movie_title} |  Description: {description} | Embedding: {embedding}\")\n",
    "\n"
   ]
  },
  {
   "cell_type": "markdown",
   "id": "2f302c0f",
   "metadata": {},
   "source": [
    "# Delete Index (Optional Cleanup)"
   ]
  },
  {
   "cell_type": "code",
   "execution_count": null,
   "id": "4ab0490e",
   "metadata": {},
   "outputs": [],
   "source": [
    "es.indices.delete(index=index_name)"
   ]
  },
  {
   "cell_type": "markdown",
   "id": "328d47b1",
   "metadata": {},
   "source": [
    "# Perform Vector Search Query"
   ]
  },
  {
   "cell_type": "code",
   "execution_count": null,
   "id": "11b9b5e1",
   "metadata": {},
   "outputs": [],
   "source": [
    "query_text = \"query_text\"\n",
    "\n",
    "embedding_response = client.embeddings.create(\n",
    "    input=query_text,\n",
    "    model=deployment_name\n",
    ")\n",
    "\n",
    "query_vector = embedding_response.data[0].embedding\n",
    "\n",
    "body = {\n",
    "    \"size\": 3,\n",
    "    \"query\": {\n",
    "        \"knn\": {\n",
    "            \"field\": \"embedding\",\n",
    "            \"query_vector\": query_vector,\n",
    "        }\n",
    "    }\n",
    "}\n",
    "\n",
    "response = es.search(index=index_name, body=body)\n",
    "\n",
    "print(\"Top 3 results:\")\n",
    "\n",
    "for hit in response[\"hits\"][\"hits\"]:\n",
    "    movie_title = hit[\"_source\"][\"movie_title\"]\n",
    "    description = hit[\"_source\"][\"description\"]\n",
    "    score = hit[\"_score\"]\n",
    "    print(f\"Movie: {movie_title} | Description: {description}\")"
   ]
  }
 ],
 "metadata": {
  "kernelspec": {
   "display_name": "venv",
   "language": "python",
   "name": "python3"
  },
  "language_info": {
   "codemirror_mode": {
    "name": "ipython",
    "version": 3
   },
   "file_extension": ".py",
   "mimetype": "text/x-python",
   "name": "python",
   "nbconvert_exporter": "python",
   "pygments_lexer": "ipython3",
   "version": "3.12.0"
  }
 },
 "nbformat": 4,
 "nbformat_minor": 5
}
